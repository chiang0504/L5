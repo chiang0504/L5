{
 "cells": [
  {
   "cell_type": "markdown",
   "metadata": {},
   "source": [
    "# 用 Python 呼叫 VBA 巨集\n",
    "\n",
    "假若我有一些過去用 VBA 寫好的自訂函數，又懶得重寫，此時我就可以使用 xlwings 直接呼叫它即可"
   ]
  },
  {
   "cell_type": "code",
   "execution_count": 1,
   "metadata": {},
   "outputs": [],
   "source": [
    "import xlwings as xw\n",
    "# 請輸入 自訂函數.xlsm 的絕對路徑\n",
    "wb = xw.Book(r'C:\\Users\\user\\Desktop\\L5\\自訂函數.xlsm')"
   ]
  },
  {
   "cell_type": "markdown",
   "metadata": {},
   "source": [
    "## 我們先用 VBA 自訂一個函數：計算 BMI\n",
    "\n",
    "```vb\n",
    "Function BMI(height As Double, weight As Double) As Double\n",
    "    BMI = weight / (height / 100) ^ 2\n",
    "End Function\n",
    "```"
   ]
  },
  {
   "cell_type": "code",
   "execution_count": null,
   "metadata": {},
   "outputs": [],
   "source": [
    "# 截取出名爲 'BMI' 的自訂函數\n",
    "bmi = wb.macro('BMI')\n",
    "# 接下來就可以像用一般 Python 函數一樣的使用它\n",
    "bmi(180, 72)"
   ]
  },
  {
   "cell_type": "markdown",
   "metadata": {},
   "source": [
    "我們注意到了在計算 BMI 值公式的身高，是以公尺為單位，而目前我們的資料是以公分為單位，面對這樣的問題我們可以另外\n",
    "再寫一個 vba 函數換算長度：\n",
    "\n",
    "```vb\n",
    "Function CM2M(____________) As Double\n",
    "    _____________\n",
    "End Function\n",
    "```"
   ]
  },
  {
   "cell_type": "code",
   "execution_count": null,
   "metadata": {},
   "outputs": [],
   "source": [
    "# 我們可以再另外宣告一個換算公分與公尺的 VBA 函數，再將此函數存入一個 python 的變數\n",
    "m2cm = wb.macro('CM2M')\n",
    "m2cm(178.5)"
   ]
  },
  {
   "cell_type": "code",
   "execution_count": null,
   "metadata": {},
   "outputs": [],
   "source": [
    "# 接下來我們就可以將不同的函數結合起來使用，與寫 Excel 公式非常類似\n",
    "bmi(m2cm(180), 72)"
   ]
  },
  {
   "cell_type": "markdown",
   "metadata": {},
   "source": [
    "## 我們再另外自訂一個函數：計算營業稅\n",
    "\n",
    "```vb\n",
    "Function CalculateTax(amount As Long, Optional rate As Double = 0.05) As Integer\n",
    "    CalculateTax = Round(amount * rate, 1)\n",
    "End Function\n",
    "```"
   ]
  },
  {
   "cell_type": "code",
   "execution_count": null,
   "metadata": {},
   "outputs": [],
   "source": [
    "calculate_tax = wb.macro('CalculateTax')\n",
    "my_tax = calculate_tax(1000000, 3)\n",
    "my_tax"
   ]
  },
  {
   "cell_type": "code",
   "execution_count": null,
   "metadata": {},
   "outputs": [],
   "source": [
    "#函數內參數前加Optional可變非必填，用預設值計算"
   ]
  }
 ],
 "metadata": {
  "kernelspec": {
   "display_name": "Python 3",
   "language": "python",
   "name": "python3"
  },
  "language_info": {
   "codemirror_mode": {
    "name": "ipython",
    "version": 3
   },
   "file_extension": ".py",
   "mimetype": "text/x-python",
   "name": "python",
   "nbconvert_exporter": "python",
   "pygments_lexer": "ipython3",
   "version": "3.6.4"
  }
 },
 "nbformat": 4,
 "nbformat_minor": 2
}
