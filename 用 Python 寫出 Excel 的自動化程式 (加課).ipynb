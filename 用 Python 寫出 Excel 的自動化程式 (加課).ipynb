{
 "cells": [
  {
   "cell_type": "markdown",
   "metadata": {},
   "source": [
    "## Beta: 用 VBA 呼叫 Python Function\n",
    "假若今天反過來，我未來用 Python 寫好了很多函數，卻希望能在 VBA 上使用它"
   ]
  },
  {
   "cell_type": "markdown",
   "metadata": {},
   "source": [
    "# 此時,就需要用到一點指令列了...\n",
    "\n",
    "\n",
    "## 方法 1: 指令列 (windows & mac)\n",
    "\n",
    "用 **windows** 的同學請打開 cmd.exe, 在裏面輸入：\n",
    "```bash\n",
    "xlwings addin install\n",
    "```\n",
    "\n",
    "用 **mac** 的同學請打開 terminal.app, 在裏面輸入：\n",
    "```bash\n",
    "xlwings addin install\n",
    "```\n",
    "\n",
    "備注：**使用 mac 的同學，若你的 mac 版本是 office 365 以前的版本，xlwings 是無法支援的**\n",
    "\n",
    "## 方法 2: 手動安裝 (windows)\n",
    "\n",
    "1. 請至：\n",
    "[xlwings github](https://github.com/ZoomerAnalytics/xlwings/releases)\n",
    "下載最新的 `xlwings.xlam` 檔案，將該檔案放入\n",
    "\n",
    "2. 在檔案總管切換至 `C:\\Users\\<你的賬戶名稱>\\AppData\\Roaming\\Microsoft\\Excel\\XLSTART`，在裏面放入下載的 `xlwings.xlam` 檔\n",
    "\n",
    "你的 excel 應該也會出現 xlwings 標籤頁：\n",
    "![](https://www.dropbox.com/s/n6w6k8asqthzu67/xlwings_ribbon.PNG?dl=1)\n",
    "\n",
    "接下來請開啓 **檔案 > 選項 > 信任中心 > 信任中心設定 > 訊息列 > 巨集設定 > 勾選\"信任存取 VBA 專案物件模型\"**\n",
    "![](https://www.dropbox.com/s/prutrjfzov926o2/setting_xlwings.PNG?dl=1)"
   ]
  },
  {
   "cell_type": "markdown",
   "metadata": {},
   "source": [
    "# 建立一個新的 xlwings 專案\n",
    "\n",
    "沒有出錯的話，請接著在指令列輸入：\n",
    "```bash\n",
    "xlwings quickstart hello\n",
    "```\n",
    "應該會產生出一個 `hello.xlsm` 與 `hello.py` 檔\n"
   ]
  }
 ],
 "metadata": {
  "kernelspec": {
   "display_name": "Python 3",
   "language": "python",
   "name": "python3"
  },
  "language_info": {
   "codemirror_mode": {
    "name": "ipython",
    "version": 3
   },
   "file_extension": ".py",
   "mimetype": "text/x-python",
   "name": "python",
   "nbconvert_exporter": "python",
   "pygments_lexer": "ipython3",
   "version": "3.6.4"
  }
 },
 "nbformat": 4,
 "nbformat_minor": 2
}
